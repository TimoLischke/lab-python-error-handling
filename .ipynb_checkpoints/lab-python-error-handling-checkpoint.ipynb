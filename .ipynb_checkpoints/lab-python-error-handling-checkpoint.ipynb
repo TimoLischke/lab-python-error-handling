{
 "cells": [
  {
   "cell_type": "markdown",
   "id": "25d7736c-ba17-4aff-b6bb-66eba20fbf4e",
   "metadata": {},
   "source": [
    "# Lab | Error Handling"
   ]
  },
  {
   "cell_type": "raw",
   "id": "a3305ad2-47b7-49cc-99fc-579d27c8423a",
   "metadata": {},
   "source": [
    "## Exercise: Error Handling for Managing Customer Orders\n",
    "\n",
    "The implementation of your code for managing customer orders assumes that the user will always enter a valid input. \n",
    "\n",
    "For example, we could modify the `initialize_inventory` function to include error handling.\n",
    "   - If the user enters an invalid quantity (e.g., a negative value or a non-numeric value), display an error message and ask them to re-enter the quantity for that product.\n",
    "   - Use a try-except block to handle the error and continue prompting the user until a valid quantity is entered.\n",
    "\n",
    "```python\n",
    "# Step 1: Define the function for initializing the inventory with error handling\n",
    "def initialize_inventory(products):\n",
    "    inventory = {}\n",
    "    for product in products:\n",
    "        valid_quantity = False\n",
    "        while not valid_quantity:\n",
    "            try:\n",
    "                quantity = int(input(f\"Enter the quantity of {product}s available: \"))\n",
    "                if quantity < 0:\n",
    "                    raise ValueError(\"Invalid quantity! Please enter a non-negative value.\")\n",
    "                valid_quantity = True\n",
    "            except ValueError as error:\n",
    "                print(f\"Error: {error}\")\n",
    "        inventory[product] = quantity\n",
    "    return inventory\n",
    "\n",
    "# Or, in another way:\n",
    "\n",
    "def initialize_inventory(products):\n",
    "    inventory = {}\n",
    "    for product in products:\n",
    "        valid_input = False\n",
    "        while not valid_input:\n",
    "            try:\n",
    "                quantity = int(input(f\"Enter the quantity of {product}s available: \"))\n",
    "                if quantity >= 0:\n",
    "                    inventory[product] = quantity\n",
    "                    valid_input = True\n",
    "                else:\n",
    "                    print(\"Quantity cannot be negative. Please enter a valid quantity.\")\n",
    "            except ValueError:\n",
    "                print(\"Invalid input. Please enter a valid quantity.\")\n",
    "    return inventory\n",
    "```\n",
    "\n",
    "Let's enhance your code by implementing error handling to handle invalid inputs.\n",
    "\n",
    "Follow the steps below to complete the exercise:\n",
    "\n",
    "2. Modify the `calculate_total_price` function to include error handling.\n",
    "   - If the user enters an invalid price (e.g., a negative value or a non-numeric value), display an error message and ask them to re-enter the price for that product.\n",
    "   - Use a try-except block to handle the error and continue prompting the user until a valid price is entered.\n",
    "\n",
    "3. Modify the `get_customer_orders` function to include error handling.\n",
    "   - If the user enters an invalid number of orders (e.g., a negative value or a non-numeric value), display an error message and ask them to re-enter the number of orders.\n",
    "   - If the user enters an invalid product name (e.g., a product name that is not in the inventory), or that doesn't have stock available, display an error message and ask them to re-enter the product name. *Hint: you will need to pass inventory as a parameter*\n",
    "   - Use a try-except block to handle the error and continue prompting the user until a valid product name is entered.\n",
    "\n",
    "4. Test your code by running the program and deliberately entering invalid quantities and product names. Make sure the error handling mechanism works as expected.\n"
   ]
  },
  {
   "cell_type": "code",
   "execution_count": 1,
   "id": "608aa511-b926-4f91-b2e8-9f894c20628b",
   "metadata": {},
   "outputs": [],
   "source": [
    "# Modify the initialize_inventory function to include error handling.\n",
    "products = [\"t-shirt\", \"mug\", \"hat\", \"book\", \"keychain\"]\n",
    "\n",
    "def initialize_inventory(products):\n",
    "    inventory = {}\n",
    "    for product in products:\n",
    "        valid_input = False\n",
    "        while not valid_input:\n",
    "            try:\n",
    "                quantity = int(input(f\"Enter the quantity of {product}s available: \"))\n",
    "                if quantity >= 0:\n",
    "                    inventory[product] = quantity\n",
    "                    valid_input = True\n",
    "                else:\n",
    "                    print(\"Quantity cannot be negative. Please enter a valid quantity.\")\n",
    "            except ValueError:\n",
    "                print(\"Invalid input. Please enter a valid quantity.\")\n",
    "    return inventory"
   ]
  },
  {
   "cell_type": "code",
   "execution_count": 3,
   "id": "ba23923b-d331-49fb-915e-de248bb7e019",
   "metadata": {},
   "outputs": [
    {
     "name": "stdin",
     "output_type": "stream",
     "text": [
      "Enter the quantity of t-shirts available:  10\n",
      "Enter the quantity of mugs available:  20\n",
      "Enter the quantity of hats available:  30\n",
      "Enter the quantity of books available:  0\n",
      "Enter the quantity of keychains available:  40\n"
     ]
    }
   ],
   "source": [
    "inventory=initialize_inventory(products)"
   ]
  },
  {
   "cell_type": "code",
   "execution_count": 5,
   "id": "93c8b282-466d-45a5-af1e-828eae2fd814",
   "metadata": {},
   "outputs": [],
   "source": [
    "# Modify the get_customer_orders function to include error handling.\n",
    "# If the user enters an invalid number of orders (e.g., a negative value or a non-numeric value), \n",
    "# display an error message and ask them to re-enter the number of orders.\n",
    "\n",
    "# If the user enters an invalid product name (e.g., a product name that is not in the inventory), \n",
    "# or that doesn't have stock available, display an error message and ask them to re-enter the product name. \n",
    "# Hint: you will need to pass inventory as a parameter\n",
    "\n",
    "# Use a try-except block to handle the error and continue prompting the user until a valid product name is entered.\n",
    "\n",
    "def get_customer_orders(inventory): \n",
    "    customer_orders=set()\n",
    "    answer1=False\n",
    "    while answer1==False:\n",
    "        try:\n",
    "            number_of_orders=int(input(f\"Please enter number of ordered products by the customer: \"))\n",
    "            if number_of_orders>0:\n",
    "                answer1=True\n",
    "                print(f\"Valid number of orders.\")\n",
    "            else:\n",
    "                raise ValueError(\"Invalid number of orders. Please enter a positive number!\")\n",
    "        except ValueError as ve:\n",
    "            print(\"Invalid number of orders. Please enter a number instead of: \", ve, \"!\")\n",
    "    \n",
    "    for i in range(number_of_orders):\n",
    "        answer2=False\n",
    "        while answer2==False:\n",
    "            try:\n",
    "                selected_item=input(\"Please enter the product name ordered by customer: \")\n",
    "                if selected_item in inventory.keys() and inventory[selected_item]>0: # If product is in the keys and its value is bigger 0\n",
    "                    print(f\"{selected_item} found in inventory.\")\n",
    "                    customer_orders.add(selected_item)\n",
    "                    answer2 = True\n",
    "                elif selected_item in inventory.keys() and inventory[selected_item]<=0:\n",
    "                    raise ValueError(f\"Quantity of {selected_item} not in inventory.\") # Product in inventory, but quantity not available.\n",
    "                else:\n",
    "                    raise ValueError(f\"{selected_item} is not in inventory.\") # Product not in inventory.      \n",
    "            except ValueError as xy:\n",
    "                print(f\"Please enter a product found in product list: {products}\", xy)\n",
    "    return customer_orders"
   ]
  },
  {
   "cell_type": "code",
   "execution_count": 15,
   "id": "c8919cbd-2c8f-4f05-9be7-8c488a0d8c45",
   "metadata": {},
   "outputs": [
    {
     "name": "stdin",
     "output_type": "stream",
     "text": [
      "Please enter number of ordered products by the customer:  3\n"
     ]
    },
    {
     "name": "stdout",
     "output_type": "stream",
     "text": [
      "Valid number of orders.\n"
     ]
    },
    {
     "name": "stdin",
     "output_type": "stream",
     "text": [
      "Please enter the product name ordered by customer:  mug\n"
     ]
    },
    {
     "name": "stdout",
     "output_type": "stream",
     "text": [
      "mug found in inventory.\n"
     ]
    },
    {
     "name": "stdin",
     "output_type": "stream",
     "text": [
      "Please enter the product name ordered by customer:  book\n"
     ]
    },
    {
     "name": "stdout",
     "output_type": "stream",
     "text": [
      "Please enter a product found in product list: ['t-shirt', 'mug', 'hat', 'book', 'keychain'] Quantity of book not in inventory.\n"
     ]
    },
    {
     "name": "stdin",
     "output_type": "stream",
     "text": [
      "Please enter the product name ordered by customer:  keychain\n"
     ]
    },
    {
     "name": "stdout",
     "output_type": "stream",
     "text": [
      "keychain found in inventory.\n"
     ]
    },
    {
     "name": "stdin",
     "output_type": "stream",
     "text": [
      "Please enter the product name ordered by customer:  hat\n"
     ]
    },
    {
     "name": "stdout",
     "output_type": "stream",
     "text": [
      "hat found in inventory.\n"
     ]
    }
   ],
   "source": [
    "customer_orders=get_customer_orders(inventory)"
   ]
  },
  {
   "cell_type": "code",
   "execution_count": 17,
   "id": "f45b5275-3b9d-4fe1-99d2-e4d35f6d094a",
   "metadata": {},
   "outputs": [],
   "source": [
    "# Modify the `calculate_total_price` function to include error handling.\n",
    "# If the user enters an invalid price (e.g., a negative value or a non-numeric value),\n",
    "# display an error message and ask them to re-enter the price for that product.\n",
    "# Use a try-except block to handle the error and continue prompting the user until a valid price is entered.\n",
    "\n",
    "def get_customer_orders_price(customer_orders):\n",
    "    total_price = 0\n",
    "    for product in customer_orders:\n",
    "        answer3=False\n",
    "        while answer3==False:\n",
    "            try:\n",
    "                item_price = float(input(\"Please enter the price of the ordered products: \"))\n",
    "                if item_price>0:\n",
    "                    print(f\"Valid item price.\")\n",
    "                    total_price += item_price\n",
    "                    answer3=True\n",
    "                elif item_price<=0:\n",
    "                    raise ValueError(\"Invalid item price. Please enter a positive number!\")\n",
    "                else:\n",
    "                    raise ValueError(\"Invalid item price. Please enter a positive number!\")\n",
    "            except ValueError as se:\n",
    "                print(\"Invalid item price. Please enter a number instead of: \", se, \"!\")\n",
    "    return total_price"
   ]
  },
  {
   "cell_type": "code",
   "execution_count": 19,
   "id": "73e9f7e2-a2e7-458d-829f-5e945c7aa909",
   "metadata": {},
   "outputs": [
    {
     "name": "stdin",
     "output_type": "stream",
     "text": [
      "Please enter the price of the ordered products:  10\n"
     ]
    },
    {
     "name": "stdout",
     "output_type": "stream",
     "text": [
      "Valid item price.\n"
     ]
    },
    {
     "name": "stdin",
     "output_type": "stream",
     "text": [
      "Please enter the price of the ordered products:  20\n"
     ]
    },
    {
     "name": "stdout",
     "output_type": "stream",
     "text": [
      "Valid item price.\n"
     ]
    },
    {
     "name": "stdin",
     "output_type": "stream",
     "text": [
      "Please enter the price of the ordered products:  30\n"
     ]
    },
    {
     "name": "stdout",
     "output_type": "stream",
     "text": [
      "Valid item price.\n"
     ]
    }
   ],
   "source": [
    "total_price=get_customer_orders_price(customer_orders)"
   ]
  },
  {
   "cell_type": "code",
   "execution_count": 21,
   "id": "b670ce12-eb82-4cc2-9701-28e1c1dfa6cc",
   "metadata": {},
   "outputs": [
    {
     "name": "stdout",
     "output_type": "stream",
     "text": [
      "The total price of the customer´s order is: 60.0.\n"
     ]
    }
   ],
   "source": [
    "total_price\n",
    "print(f\"The total price of the customer´s order is: {total_price}.\")"
   ]
  },
  {
   "cell_type": "code",
   "execution_count": null,
   "id": "a9d48a85-cb38-4def-b14f-cdb2c789750b",
   "metadata": {},
   "outputs": [],
   "source": []
  }
 ],
 "metadata": {
  "kernelspec": {
   "display_name": "Python [conda env:base] *",
   "language": "python",
   "name": "conda-base-py"
  },
  "language_info": {
   "codemirror_mode": {
    "name": "ipython",
    "version": 3
   },
   "file_extension": ".py",
   "mimetype": "text/x-python",
   "name": "python",
   "nbconvert_exporter": "python",
   "pygments_lexer": "ipython3",
   "version": "3.12.7"
  }
 },
 "nbformat": 4,
 "nbformat_minor": 5
}
